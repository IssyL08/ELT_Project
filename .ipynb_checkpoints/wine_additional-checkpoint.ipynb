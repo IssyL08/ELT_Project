{
 "cells": [
  {
   "cell_type": "markdown",
   "metadata": {},
   "source": [
    "scrapped some additional data off the website: https://fivethirtyeight.com/features/dear-mona-followup-where-do-people-drink-the-most-beer-wine-and-spirits/\n",
    "borrowed from article by: Mona Chalabi is data editor at the Guardian US, and a columnist at New York Magazine. She was previously a lead news writer for FiveThirtyEight.   @monachalabi"
   ]
  },
  {
   "cell_type": "code",
   "execution_count": 116,
   "metadata": {},
   "outputs": [],
   "source": [
    "# Dependencies\n",
    "from splinter import Browser\n",
    "from bs4 import BeautifulSoup as bs\n",
    "import pandas as pd\n",
    "import requests\n",
    "from selenium import webdriver\n",
    "from pandas.io.json import json_normalize\n",
    "import json\n",
    "import pymongo\n",
    "from flask import Flask, render_template, redirect\n",
    "from flask_pymongo import PyMongo\n",
    "import io\n"
   ]
  },
  {
   "cell_type": "code",
   "execution_count": 85,
   "metadata": {},
   "outputs": [],
   "source": [
    "executable_path = {'executable_path': 'chromedriver.exe'}\n",
    "browser = Browser('chrome', **executable_path, headless=False)"
   ]
  },
  {
   "cell_type": "code",
   "execution_count": 9,
   "metadata": {},
   "outputs": [],
   "source": [
    "url = 'https://fivethirtyeight.com/features/dear-mona-followup-where-do-people-drink-the-most-beer-wine-and-spirits/'\n",
    "\n",
    "browser.visit(url)\n",
    "\n",
    "html = browser.html\n",
    "\n",
    "soup = bs(html, 'html.parser')"
   ]
  },
  {
   "cell_type": "code",
   "execution_count": 16,
   "metadata": {},
   "outputs": [
    {
     "data": {
      "text/plain": [
       "'https://fivethirtyeight.com/wp-content/uploads/2014/08/chalabi-datalab-alcohol-1.png?w=610 1x, https://fivethirtyeight.com/wp-content/uploads/2014/08/chalabi-datalab-alcohol-1.png?w=1220 2x'"
      ]
     },
     "execution_count": 16,
     "metadata": {},
     "output_type": "execute_result"
    }
   ],
   "source": [
    "us_alcohol_consumption= soup.find('img', class_='alignnone size-full wp-image-49695').get('srcset')\n",
    "us_alcohol_consumption"
   ]
  },
  {
   "cell_type": "code",
   "execution_count": 56,
   "metadata": {},
   "outputs": [
    {
     "ename": "AttributeError",
     "evalue": "'NoneType' object has no attribute 'get'",
     "output_type": "error",
     "traceback": [
      "\u001b[1;31m---------------------------------------------------------------------------\u001b[0m",
      "\u001b[1;31mAttributeError\u001b[0m                            Traceback (most recent call last)",
      "\u001b[1;32m<ipython-input-56-ae4789f2d008>\u001b[0m in \u001b[0;36m<module>\u001b[1;34m\u001b[0m\n\u001b[1;32m----> 1\u001b[1;33m \u001b[0mcountry_consumption\u001b[0m\u001b[1;33m=\u001b[0m \u001b[0msoup\u001b[0m\u001b[1;33m.\u001b[0m\u001b[0mfind\u001b[0m\u001b[1;33m(\u001b[0m\u001b[1;34m'img'\u001b[0m\u001b[1;33m,\u001b[0m \u001b[0mclass_\u001b[0m\u001b[1;33m=\u001b[0m\u001b[1;34m'alignnone size-full wp-image-49738'\u001b[0m\u001b[1;33m)\u001b[0m\u001b[1;33m.\u001b[0m\u001b[0mget\u001b[0m\u001b[1;33m(\u001b[0m\u001b[1;34m'srcset'\u001b[0m\u001b[1;33m)\u001b[0m\u001b[1;33m\u001b[0m\u001b[1;33m\u001b[0m\u001b[0m\n\u001b[0m\u001b[0;32m      2\u001b[0m \u001b[0mcountry_consumption\u001b[0m\u001b[1;33m\u001b[0m\u001b[1;33m\u001b[0m\u001b[0m\n",
      "\u001b[1;31mAttributeError\u001b[0m: 'NoneType' object has no attribute 'get'"
     ]
    }
   ],
   "source": [
    "country_consumption= soup.find('img', class_='alignnone size-full wp-image-49738').get('srcset')\n",
    "country_consumption\n"
   ]
  },
  {
   "cell_type": "markdown",
   "metadata": {},
   "source": [
    "borrowed raw data for above website from: https://raw.githubusercontent.com/fivethirtyeight/data/master/alcohol-consumption/drinks.csv\n"
   ]
  },
  {
   "cell_type": "code",
   "execution_count": 35,
   "metadata": {},
   "outputs": [
    {
     "ename": "IndexError",
     "evalue": "list index out of range",
     "output_type": "error",
     "traceback": [
      "\u001b[1;31m---------------------------------------------------------------------------\u001b[0m",
      "\u001b[1;31mIndexError\u001b[0m                                Traceback (most recent call last)",
      "\u001b[1;32m<ipython-input-35-b4eedb60129c>\u001b[0m in \u001b[0;36m<module>\u001b[1;34m\u001b[0m\n\u001b[0;32m      1\u001b[0m \u001b[0mres\u001b[0m \u001b[1;33m=\u001b[0m \u001b[0mrequests\u001b[0m\u001b[1;33m.\u001b[0m\u001b[0mget\u001b[0m\u001b[1;33m(\u001b[0m\u001b[1;34m\"https://raw.githubusercontent.com/fivethirtyeight/data/master/alcohol-consumption/drinks.csv\"\u001b[0m\u001b[1;33m)\u001b[0m\u001b[1;33m\u001b[0m\u001b[1;33m\u001b[0m\u001b[0m\n\u001b[0;32m      2\u001b[0m \u001b[0msoup\u001b[0m \u001b[1;33m=\u001b[0m \u001b[0mbs\u001b[0m\u001b[1;33m(\u001b[0m\u001b[0mres\u001b[0m\u001b[1;33m.\u001b[0m\u001b[0mcontent\u001b[0m\u001b[1;33m,\u001b[0m\u001b[1;34m'lxml'\u001b[0m\u001b[1;33m)\u001b[0m\u001b[1;33m\u001b[0m\u001b[1;33m\u001b[0m\u001b[0m\n\u001b[1;32m----> 3\u001b[1;33m \u001b[0mtable\u001b[0m \u001b[1;33m=\u001b[0m \u001b[0msoup\u001b[0m\u001b[1;33m.\u001b[0m\u001b[0mfind_all\u001b[0m\u001b[1;33m(\u001b[0m\u001b[1;34m'table'\u001b[0m\u001b[1;33m)\u001b[0m\u001b[1;33m[\u001b[0m\u001b[1;36m0\u001b[0m\u001b[1;33m]\u001b[0m\u001b[1;33m\u001b[0m\u001b[1;33m\u001b[0m\u001b[0m\n\u001b[0m\u001b[0;32m      4\u001b[0m \u001b[0mdf\u001b[0m \u001b[1;33m=\u001b[0m \u001b[0mpd\u001b[0m\u001b[1;33m.\u001b[0m\u001b[0mread_html\u001b[0m\u001b[1;33m(\u001b[0m\u001b[0mstr\u001b[0m\u001b[1;33m(\u001b[0m\u001b[0mtable\u001b[0m\u001b[1;33m)\u001b[0m\u001b[1;33m)\u001b[0m\u001b[1;33m\u001b[0m\u001b[1;33m\u001b[0m\u001b[0m\n\u001b[0;32m      5\u001b[0m \u001b[0mprint\u001b[0m\u001b[1;33m(\u001b[0m\u001b[0mdf\u001b[0m\u001b[1;33m[\u001b[0m\u001b[1;36m0\u001b[0m\u001b[1;33m]\u001b[0m\u001b[1;33m.\u001b[0m\u001b[0mto_json\u001b[0m\u001b[1;33m(\u001b[0m\u001b[0morient\u001b[0m\u001b[1;33m=\u001b[0m\u001b[1;34m'records'\u001b[0m\u001b[1;33m)\u001b[0m\u001b[1;33m)\u001b[0m\u001b[1;33m\u001b[0m\u001b[1;33m\u001b[0m\u001b[0m\n",
      "\u001b[1;31mIndexError\u001b[0m: list index out of range"
     ]
    }
   ],
   "source": []
  },
  {
   "cell_type": "code",
   "execution_count": 117,
   "metadata": {},
   "outputs": [],
   "source": [
    "consumption_url= 'https://raw.githubusercontent.com/fivethirtyeight/data/master/alcohol-consumption/drinks.csv'\n",
    "\n",
    "browser.visit(consumption_url)\n",
    "\n",
    "html = browser.html\n",
    "\n",
    "soup = bs(html, 'html.parser')"
   ]
  },
  {
   "cell_type": "code",
   "execution_count": 118,
   "metadata": {},
   "outputs": [
    {
     "data": {
      "text/plain": [
       "\"country,beer_servings,spirit_servings,wine_servings,total_litres_of_pure_alcohol\\nAfghanistan,0,0,0,0.0\\nAlbania,89,132,54,4.9\\nAlgeria,25,0,14,0.7\\nAndorra,245,138,312,12.4\\nAngola,217,57,45,5.9\\nAntigua & Barbuda,102,128,45,4.9\\nArgentina,193,25,221,8.3\\nArmenia,21,179,11,3.8\\nAustralia,261,72,212,10.4\\nAustria,279,75,191,9.7\\nAzerbaijan,21,46,5,1.3\\nBahamas,122,176,51,6.3\\nBahrain,42,63,7,2.0\\nBangladesh,0,0,0,0.0\\nBarbados,143,173,36,6.3\\nBelarus,142,373,42,14.4\\nBelgium,295,84,212,10.5\\nBelize,263,114,8,6.8\\nBenin,34,4,13,1.1\\nBhutan,23,0,0,0.4\\nBolivia,167,41,8,3.8\\nBosnia-Herzegovina,76,173,8,4.6\\nBotswana,173,35,35,5.4\\nBrazil,245,145,16,7.2\\nBrunei,31,2,1,0.6\\nBulgaria,231,252,94,10.3\\nBurkina Faso,25,7,7,4.3\\nBurundi,88,0,0,6.3\\nCote d'Ivoire,37,1,7,4.0\\nCabo Verde,144,56,16,4.0\\nCambodia,57,65,1,2.2\\nCameroon,147,1,4,5.8\\nCanada,240,122,100,8.2\\nCentral African Republic,17,2,1,1.8\\nChad,15,1,1,0.4\\nChile,130,124,172,7.6\\nChina,79,192,8,5.0\\nColombia,159,76,3,4.2\\nComoros,1,3,1,0.1\\nCongo,76,1,9,1.7\\nCook Islands,0,254,74,5.9\\nCosta Rica,149,87,11,4.4\\nCroatia,230,87,254,10.2\\nCuba,93,137,5,4.2\\nCyprus,192,154,113,8.2\\nCzech Republic,361,170,134,11.8\\nNorth Korea,0,0,0,0.0\\nDR Congo,32,3,1,2.3\\nDenmark,224,81,278,10.4\\nDjibouti,15,44,3,1.1\\nDominica,52,286,26,6.6\\nDominican Republic,193,147,9,6.2\\nEcuador,162,74,3,4.2\\nEgypt,6,4,1,0.2\\nEl Salvador,52,69,2,2.2\\nEquatorial Guinea,92,0,233,5.8\\nEritrea,18,0,0,0.5\\nEstonia,224,194,59,9.5\\nEthiopia,20,3,0,0.7\\nFiji,77,35,1,2.0\\nFinland,263,133,97,10.0\\nFrance,127,151,370,11.8\\nGabon,347,98,59,8.9\\nGambia,8,0,1,2.4\\nGeorgia,52,100,149,5.4\\nGermany,346,117,175,11.3\\nGhana,31,3,10,1.8\\nGreece,133,112,218,8.3\\nGrenada,199,438,28,11.9\\nGuatemala,53,69,2,2.2\\nGuinea,9,0,2,0.2\\nGuinea-Bissau,28,31,21,2.5\\nGuyana,93,302,1,7.1\\nHaiti,1,326,1,5.9\\nHonduras,69,98,2,3.0\\nHungary,234,215,185,11.3\\nIceland,233,61,78,6.6\\nIndia,9,114,0,2.2\\nIndonesia,5,1,0,0.1\\nIran,0,0,0,0.0\\nIraq,9,3,0,0.2\\nIreland,313,118,165,11.4\\nIsrael,63,69,9,2.5\\nItaly,85,42,237,6.5\\nJamaica,82,97,9,3.4\\nJapan,77,202,16,7.0\\nJordan,6,21,1,0.5\\nKazakhstan,124,246,12,6.8\\nKenya,58,22,2,1.8\\nKiribati,21,34,1,1.0\\nKuwait,0,0,0,0.0\\nKyrgyzstan,31,97,6,2.4\\nLaos,62,0,123,6.2\\nLatvia,281,216,62,10.5\\nLebanon,20,55,31,1.9\\nLesotho,82,29,0,2.8\\nLiberia,19,152,2,3.1\\nLibya,0,0,0,0.0\\nLithuania,343,244,56,12.9\\nLuxembourg,236,133,271,11.4\\nMadagascar,26,15,4,0.8\\nMalawi,8,11,1,1.5\\nMalaysia,13,4,0,0.3\\nMaldives,0,0,0,0.0\\nMali,5,1,1,0.6\\nMalta,149,100,120,6.6\\nMarshall Islands,0,0,0,0.0\\nMauritania,0,0,0,0.0\\nMauritius,98,31,18,2.6\\nMexico,238,68,5,5.5\\nMicronesia,62,50,18,2.3\\nMonaco,0,0,0,0.0\\nMongolia,77,189,8,4.9\\nMontenegro,31,114,128,4.9\\nMorocco,12,6,10,0.5\\nMozambique,47,18,5,1.3\\nMyanmar,5,1,0,0.1\\nNamibia,376,3,1,6.8\\nNauru,49,0,8,1.0\\nNepal,5,6,0,0.2\\nNetherlands,251,88,190,9.4\\nNew Zealand,203,79,175,9.3\\nNicaragua,78,118,1,3.5\\nNiger,3,2,1,0.1\\nNigeria,42,5,2,9.1\\nNiue,188,200,7,7.0\\nNorway,169,71,129,6.7\\nOman,22,16,1,0.7\\nPakistan,0,0,0,0.0\\nPalau,306,63,23,6.9\\nPanama,285,104,18,7.2\\nPapua New Guinea,44,39,1,1.5\\nParaguay,213,117,74,7.3\\nPeru,163,160,21,6.1\\nPhilippines,71,186,1,4.6\\nPoland,343,215,56,10.9\\nPortugal,194,67,339,11.0\\nQatar,1,42,7,0.9\\nSouth Korea,140,16,9,9.8\\nMoldova,109,226,18,6.3\\nRomania,297,122,167,10.4\\nRussian Federation,247,326,73,11.5\\nRwanda,43,2,0,6.8\\nSt. Kitts & Nevis,194,205,32,7.7\\nSt. Lucia,171,315,71,10.1\\nSt. Vincent & the Grenadines,120,221,11,6.3\\nSamoa,105,18,24,2.6\\nSan Marino,0,0,0,0.0\\nSao Tome & Principe,56,38,140,4.2\\nSaudi Arabia,0,5,0,0.1\\nSenegal,9,1,7,0.3\\nSerbia,283,131,127,9.6\\nSeychelles,157,25,51,4.1\\nSierra Leone,25,3,2,6.7\\nSingapore,60,12,11,1.5\\nSlovakia,196,293,116,11.4\\nSlovenia,270,51,276,10.6\\nSolomon Islands,56,11,1,1.2\\nSomalia,0,0,0,0.0\\nSouth Africa,225,76,81,8.2\\nSpain,284,157,112,10.0\\nSri Lanka,16,104,0,2.2\\nSudan,8,13,0,1.7\\nSuriname,128,178,7,5.6\\nSwaziland,90,2,2,4.7\\nSweden,152,60,186,7.2\\nSwitzerland,185,100,280,10.2\\nSyria,5,35,16,1.0\\nTajikistan,2,15,0,0.3\\nThailand,99,258,1,6.4\\nMacedonia,106,27,86,3.9\\nTimor-Leste,1,1,4,0.1\\nTogo,36,2,19,1.3\\nTonga,36,21,5,1.1\\nTrinidad & Tobago,197,156,7,6.4\\nTunisia,51,3,20,1.3\\nTurkey,51,22,7,1.4\\nTurkmenistan,19,71,32,2.2\\nTuvalu,6,41,9,1.0\\nUganda,45,9,0,8.3\\nUkraine,206,237,45,8.9\\nUnited Arab Emirates,16,135,5,2.8\\nUnited Kingdom,219,126,195,10.4\\nTanzania,36,6,1,5.7\\nUSA,249,158,84,8.7\\nUruguay,115,35,220,6.6\\nUzbekistan,25,101,8,2.4\\nVanuatu,21,18,11,0.9\\nVenezuela,333,100,3,7.7\\nVietnam,111,2,1,2.0\\nYemen,6,0,0,0.1\\nZambia,32,19,4,2.5\\nZimbabwe,64,18,4,4.7\\n\""
      ]
     },
     "execution_count": 118,
     "metadata": {},
     "output_type": "execute_result"
    }
   ],
   "source": [
    "country_consumption = soup.find('body').text\n",
    "\n",
    "country_consumption"
   ]
  },
  {
   "cell_type": "code",
   "execution_count": 126,
   "metadata": {},
   "outputs": [
    {
     "data": {
      "text/html": [
       "<div>\n",
       "<style scoped>\n",
       "    .dataframe tbody tr th:only-of-type {\n",
       "        vertical-align: middle;\n",
       "    }\n",
       "\n",
       "    .dataframe tbody tr th {\n",
       "        vertical-align: top;\n",
       "    }\n",
       "\n",
       "    .dataframe thead th {\n",
       "        text-align: right;\n",
       "    }\n",
       "</style>\n",
       "<table border=\"1\" class=\"dataframe\">\n",
       "  <thead>\n",
       "    <tr style=\"text-align: right;\">\n",
       "      <th></th>\n",
       "      <th>country</th>\n",
       "      <th>beer_servings</th>\n",
       "      <th>spirit_servings</th>\n",
       "      <th>wine_servings</th>\n",
       "      <th>total_litres_of_pure_alcohol</th>\n",
       "    </tr>\n",
       "  </thead>\n",
       "  <tbody>\n",
       "    <tr>\n",
       "      <th>0</th>\n",
       "      <td>Afghanistan</td>\n",
       "      <td>0</td>\n",
       "      <td>0</td>\n",
       "      <td>0</td>\n",
       "      <td>0.0</td>\n",
       "    </tr>\n",
       "    <tr>\n",
       "      <th>1</th>\n",
       "      <td>Albania</td>\n",
       "      <td>89</td>\n",
       "      <td>132</td>\n",
       "      <td>54</td>\n",
       "      <td>4.9</td>\n",
       "    </tr>\n",
       "    <tr>\n",
       "      <th>2</th>\n",
       "      <td>Algeria</td>\n",
       "      <td>25</td>\n",
       "      <td>0</td>\n",
       "      <td>14</td>\n",
       "      <td>0.7</td>\n",
       "    </tr>\n",
       "    <tr>\n",
       "      <th>3</th>\n",
       "      <td>Andorra</td>\n",
       "      <td>245</td>\n",
       "      <td>138</td>\n",
       "      <td>312</td>\n",
       "      <td>12.4</td>\n",
       "    </tr>\n",
       "    <tr>\n",
       "      <th>4</th>\n",
       "      <td>Angola</td>\n",
       "      <td>217</td>\n",
       "      <td>57</td>\n",
       "      <td>45</td>\n",
       "      <td>5.9</td>\n",
       "    </tr>\n",
       "    <tr>\n",
       "      <th>...</th>\n",
       "      <td>...</td>\n",
       "      <td>...</td>\n",
       "      <td>...</td>\n",
       "      <td>...</td>\n",
       "      <td>...</td>\n",
       "    </tr>\n",
       "    <tr>\n",
       "      <th>188</th>\n",
       "      <td>Venezuela</td>\n",
       "      <td>333</td>\n",
       "      <td>100</td>\n",
       "      <td>3</td>\n",
       "      <td>7.7</td>\n",
       "    </tr>\n",
       "    <tr>\n",
       "      <th>189</th>\n",
       "      <td>Vietnam</td>\n",
       "      <td>111</td>\n",
       "      <td>2</td>\n",
       "      <td>1</td>\n",
       "      <td>2.0</td>\n",
       "    </tr>\n",
       "    <tr>\n",
       "      <th>190</th>\n",
       "      <td>Yemen</td>\n",
       "      <td>6</td>\n",
       "      <td>0</td>\n",
       "      <td>0</td>\n",
       "      <td>0.1</td>\n",
       "    </tr>\n",
       "    <tr>\n",
       "      <th>191</th>\n",
       "      <td>Zambia</td>\n",
       "      <td>32</td>\n",
       "      <td>19</td>\n",
       "      <td>4</td>\n",
       "      <td>2.5</td>\n",
       "    </tr>\n",
       "    <tr>\n",
       "      <th>192</th>\n",
       "      <td>Zimbabwe</td>\n",
       "      <td>64</td>\n",
       "      <td>18</td>\n",
       "      <td>4</td>\n",
       "      <td>4.7</td>\n",
       "    </tr>\n",
       "  </tbody>\n",
       "</table>\n",
       "<p>193 rows × 5 columns</p>\n",
       "</div>"
      ],
      "text/plain": [
       "         country  beer_servings  spirit_servings  wine_servings  \\\n",
       "0    Afghanistan              0                0              0   \n",
       "1        Albania             89              132             54   \n",
       "2        Algeria             25                0             14   \n",
       "3        Andorra            245              138            312   \n",
       "4         Angola            217               57             45   \n",
       "..           ...            ...              ...            ...   \n",
       "188    Venezuela            333              100              3   \n",
       "189      Vietnam            111                2              1   \n",
       "190        Yemen              6                0              0   \n",
       "191       Zambia             32               19              4   \n",
       "192     Zimbabwe             64               18              4   \n",
       "\n",
       "     total_litres_of_pure_alcohol  \n",
       "0                             0.0  \n",
       "1                             4.9  \n",
       "2                             0.7  \n",
       "3                            12.4  \n",
       "4                             5.9  \n",
       "..                            ...  \n",
       "188                           7.7  \n",
       "189                           2.0  \n",
       "190                           0.1  \n",
       "191                           2.5  \n",
       "192                           4.7  \n",
       "\n",
       "[193 rows x 5 columns]"
      ]
     },
     "execution_count": 126,
     "metadata": {},
     "output_type": "execute_result"
    }
   ],
   "source": [
    "data = io.StringIO(country_consumption)\n",
    "country_consumption_df = pd.read_csv(data, sep=\",\")\n",
    "country_consumption_df"
   ]
  },
  {
   "cell_type": "code",
   "execution_count": 131,
   "metadata": {},
   "outputs": [],
   "source": [
    "country_consumption_df.to_csv('output/consumption.csv',index=False)\n"
   ]
  },
  {
   "cell_type": "code",
   "execution_count": 133,
   "metadata": {},
   "outputs": [
    {
     "data": {
      "text/html": [
       "<div>\n",
       "<style scoped>\n",
       "    .dataframe tbody tr th:only-of-type {\n",
       "        vertical-align: middle;\n",
       "    }\n",
       "\n",
       "    .dataframe tbody tr th {\n",
       "        vertical-align: top;\n",
       "    }\n",
       "\n",
       "    .dataframe thead th {\n",
       "        text-align: right;\n",
       "    }\n",
       "</style>\n",
       "<table border=\"1\" class=\"dataframe\">\n",
       "  <thead>\n",
       "    <tr style=\"text-align: right;\">\n",
       "      <th></th>\n",
       "      <th>Country</th>\n",
       "      <th>Beer_Servings</th>\n",
       "      <th>Spirit_Servings</th>\n",
       "      <th>Wine_Servings</th>\n",
       "      <th>Total_Litres_of_Pure_Alcohol</th>\n",
       "    </tr>\n",
       "  </thead>\n",
       "  <tbody>\n",
       "    <tr>\n",
       "      <th>0</th>\n",
       "      <td>Afghanistan</td>\n",
       "      <td>0</td>\n",
       "      <td>0</td>\n",
       "      <td>0</td>\n",
       "      <td>0.0</td>\n",
       "    </tr>\n",
       "    <tr>\n",
       "      <th>1</th>\n",
       "      <td>Albania</td>\n",
       "      <td>89</td>\n",
       "      <td>132</td>\n",
       "      <td>54</td>\n",
       "      <td>4.9</td>\n",
       "    </tr>\n",
       "    <tr>\n",
       "      <th>2</th>\n",
       "      <td>Algeria</td>\n",
       "      <td>25</td>\n",
       "      <td>0</td>\n",
       "      <td>14</td>\n",
       "      <td>0.7</td>\n",
       "    </tr>\n",
       "    <tr>\n",
       "      <th>3</th>\n",
       "      <td>Andorra</td>\n",
       "      <td>245</td>\n",
       "      <td>138</td>\n",
       "      <td>312</td>\n",
       "      <td>12.4</td>\n",
       "    </tr>\n",
       "    <tr>\n",
       "      <th>4</th>\n",
       "      <td>Angola</td>\n",
       "      <td>217</td>\n",
       "      <td>57</td>\n",
       "      <td>45</td>\n",
       "      <td>5.9</td>\n",
       "    </tr>\n",
       "    <tr>\n",
       "      <th>...</th>\n",
       "      <td>...</td>\n",
       "      <td>...</td>\n",
       "      <td>...</td>\n",
       "      <td>...</td>\n",
       "      <td>...</td>\n",
       "    </tr>\n",
       "    <tr>\n",
       "      <th>188</th>\n",
       "      <td>Venezuela</td>\n",
       "      <td>333</td>\n",
       "      <td>100</td>\n",
       "      <td>3</td>\n",
       "      <td>7.7</td>\n",
       "    </tr>\n",
       "    <tr>\n",
       "      <th>189</th>\n",
       "      <td>Vietnam</td>\n",
       "      <td>111</td>\n",
       "      <td>2</td>\n",
       "      <td>1</td>\n",
       "      <td>2.0</td>\n",
       "    </tr>\n",
       "    <tr>\n",
       "      <th>190</th>\n",
       "      <td>Yemen</td>\n",
       "      <td>6</td>\n",
       "      <td>0</td>\n",
       "      <td>0</td>\n",
       "      <td>0.1</td>\n",
       "    </tr>\n",
       "    <tr>\n",
       "      <th>191</th>\n",
       "      <td>Zambia</td>\n",
       "      <td>32</td>\n",
       "      <td>19</td>\n",
       "      <td>4</td>\n",
       "      <td>2.5</td>\n",
       "    </tr>\n",
       "    <tr>\n",
       "      <th>192</th>\n",
       "      <td>Zimbabwe</td>\n",
       "      <td>64</td>\n",
       "      <td>18</td>\n",
       "      <td>4</td>\n",
       "      <td>4.7</td>\n",
       "    </tr>\n",
       "  </tbody>\n",
       "</table>\n",
       "<p>193 rows × 5 columns</p>\n",
       "</div>"
      ],
      "text/plain": [
       "         Country  Beer_Servings  Spirit_Servings  Wine_Servings  \\\n",
       "0    Afghanistan              0                0              0   \n",
       "1        Albania             89              132             54   \n",
       "2        Algeria             25                0             14   \n",
       "3        Andorra            245              138            312   \n",
       "4         Angola            217               57             45   \n",
       "..           ...            ...              ...            ...   \n",
       "188    Venezuela            333              100              3   \n",
       "189      Vietnam            111                2              1   \n",
       "190        Yemen              6                0              0   \n",
       "191       Zambia             32               19              4   \n",
       "192     Zimbabwe             64               18              4   \n",
       "\n",
       "     Total_Litres_of_Pure_Alcohol  \n",
       "0                             0.0  \n",
       "1                             4.9  \n",
       "2                             0.7  \n",
       "3                            12.4  \n",
       "4                             5.9  \n",
       "..                            ...  \n",
       "188                           7.7  \n",
       "189                           2.0  \n",
       "190                           0.1  \n",
       "191                           2.5  \n",
       "192                           4.7  \n",
       "\n",
       "[193 rows x 5 columns]"
      ]
     },
     "execution_count": 133,
     "metadata": {},
     "output_type": "execute_result"
    }
   ],
   "source": [
    "country_consumption_df.rename(columns={'country':'Country','beer_servings':'Beer_Servings','spirit_servings':'Spirit_Servings',\n",
    "                                       'wine_servings':'Wine_Servings',\n",
    "                                       'total_litres_of_pure_alcohol':'Total_Litres_of_Pure_Alcohol'}, \n",
    "                 inplace=True)\n",
    "country_consumption_df"
   ]
  },
  {
   "cell_type": "code",
   "execution_count": 141,
   "metadata": {},
   "outputs": [
    {
     "data": {
      "text/html": [
       "<div>\n",
       "<style scoped>\n",
       "    .dataframe tbody tr th:only-of-type {\n",
       "        vertical-align: middle;\n",
       "    }\n",
       "\n",
       "    .dataframe tbody tr th {\n",
       "        vertical-align: top;\n",
       "    }\n",
       "\n",
       "    .dataframe thead th {\n",
       "        text-align: right;\n",
       "    }\n",
       "</style>\n",
       "<table border=\"1\" class=\"dataframe\">\n",
       "  <thead>\n",
       "    <tr style=\"text-align: right;\">\n",
       "      <th></th>\n",
       "      <th>Country</th>\n",
       "      <th>Wine_Servings</th>\n",
       "      <th>Total_Litres_of_Pure_Alcohol</th>\n",
       "    </tr>\n",
       "  </thead>\n",
       "  <tbody>\n",
       "    <tr>\n",
       "      <th>0</th>\n",
       "      <td>Afghanistan</td>\n",
       "      <td>0</td>\n",
       "      <td>0.0</td>\n",
       "    </tr>\n",
       "    <tr>\n",
       "      <th>1</th>\n",
       "      <td>Albania</td>\n",
       "      <td>54</td>\n",
       "      <td>4.9</td>\n",
       "    </tr>\n",
       "    <tr>\n",
       "      <th>2</th>\n",
       "      <td>Algeria</td>\n",
       "      <td>14</td>\n",
       "      <td>0.7</td>\n",
       "    </tr>\n",
       "    <tr>\n",
       "      <th>3</th>\n",
       "      <td>Andorra</td>\n",
       "      <td>312</td>\n",
       "      <td>12.4</td>\n",
       "    </tr>\n",
       "    <tr>\n",
       "      <th>4</th>\n",
       "      <td>Angola</td>\n",
       "      <td>45</td>\n",
       "      <td>5.9</td>\n",
       "    </tr>\n",
       "    <tr>\n",
       "      <th>...</th>\n",
       "      <td>...</td>\n",
       "      <td>...</td>\n",
       "      <td>...</td>\n",
       "    </tr>\n",
       "    <tr>\n",
       "      <th>188</th>\n",
       "      <td>Venezuela</td>\n",
       "      <td>3</td>\n",
       "      <td>7.7</td>\n",
       "    </tr>\n",
       "    <tr>\n",
       "      <th>189</th>\n",
       "      <td>Vietnam</td>\n",
       "      <td>1</td>\n",
       "      <td>2.0</td>\n",
       "    </tr>\n",
       "    <tr>\n",
       "      <th>190</th>\n",
       "      <td>Yemen</td>\n",
       "      <td>0</td>\n",
       "      <td>0.1</td>\n",
       "    </tr>\n",
       "    <tr>\n",
       "      <th>191</th>\n",
       "      <td>Zambia</td>\n",
       "      <td>4</td>\n",
       "      <td>2.5</td>\n",
       "    </tr>\n",
       "    <tr>\n",
       "      <th>192</th>\n",
       "      <td>Zimbabwe</td>\n",
       "      <td>4</td>\n",
       "      <td>4.7</td>\n",
       "    </tr>\n",
       "  </tbody>\n",
       "</table>\n",
       "<p>193 rows × 3 columns</p>\n",
       "</div>"
      ],
      "text/plain": [
       "         Country  Wine_Servings  Total_Litres_of_Pure_Alcohol\n",
       "0    Afghanistan              0                           0.0\n",
       "1        Albania             54                           4.9\n",
       "2        Algeria             14                           0.7\n",
       "3        Andorra            312                          12.4\n",
       "4         Angola             45                           5.9\n",
       "..           ...            ...                           ...\n",
       "188    Venezuela              3                           7.7\n",
       "189      Vietnam              1                           2.0\n",
       "190        Yemen              0                           0.1\n",
       "191       Zambia              4                           2.5\n",
       "192     Zimbabwe              4                           4.7\n",
       "\n",
       "[193 rows x 3 columns]"
      ]
     },
     "execution_count": 141,
     "metadata": {},
     "output_type": "execute_result"
    }
   ],
   "source": [
    "country_consumption_wine_df=country_consumption_df[['Country','Wine_Servings','Total_Litres_of_Pure_Alcohol']]\n",
    "                 \n",
    "country_consumption_wine_df"
   ]
  },
  {
   "cell_type": "code",
   "execution_count": null,
   "metadata": {},
   "outputs": [],
   "source": []
  }
 ],
 "metadata": {
  "anaconda-cloud": {},
  "kernel_info": {
   "name": "python3"
  },
  "kernelspec": {
   "display_name": "Python 3",
   "language": "python",
   "name": "python3"
  },
  "language_info": {
   "codemirror_mode": {
    "name": "ipython",
    "version": 3
   },
   "file_extension": ".py",
   "mimetype": "text/x-python",
   "name": "python",
   "nbconvert_exporter": "python",
   "pygments_lexer": "ipython3",
   "version": "3.8.5"
  },
  "nteract": {
   "version": "0.12.3"
  },
  "varInspector": {
   "cols": {
    "lenName": 16,
    "lenType": 16,
    "lenVar": 40
   },
   "kernels_config": {
    "python": {
     "delete_cmd_postfix": "",
     "delete_cmd_prefix": "del ",
     "library": "var_list.py",
     "varRefreshCmd": "print(var_dic_list())"
    },
    "r": {
     "delete_cmd_postfix": ") ",
     "delete_cmd_prefix": "rm(",
     "library": "var_list.r",
     "varRefreshCmd": "cat(var_dic_list()) "
    }
   },
   "types_to_exclude": [
    "module",
    "function",
    "builtin_function_or_method",
    "instance",
    "_Feature"
   ],
   "window_display": false
  }
 },
 "nbformat": 4,
 "nbformat_minor": 2
}
