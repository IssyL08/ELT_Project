{
 "cells": [
  {
   "cell_type": "code",
   "execution_count": null,
   "metadata": {},
   "outputs": [],
   "source": [
    "import os\n",
    "import pandas as pd\n",
    "import matplotlib.pyplot as plt\n",
    "import pandas as pd\n",
    "import scipy.stats as st\n",
    "import numpy as np\n",
    "import requests\n",
    "\n",
    "from scipy.stats import linregress\n",
    "from sklearn import datasets\n"
   ]
  },
  {
   "cell_type": "markdown",
   "metadata": {},
   "source": [
    "Data obtained from Kaggle which was provided in Json formate by ChristopheIV, https://www.kaggle.com/christopheiv/winemagdata130k"
   ]
  },
  {
   "cell_type": "code",
   "execution_count": null,
   "metadata": {},
   "outputs": [],
   "source": [
    "wine_df = pd.read_json ('Resources/winemag-data-130k-v2.json')\n",
    "wine_df.head(10)"
   ]
  },
  {
   "cell_type": "code",
   "execution_count": null,
   "metadata": {},
   "outputs": [],
   "source": [
    "wine_df.rename(columns={'points':'Points','title':'Title','description':'Description',\n",
    "                        'taster_name':'TasterName','taster_twitter_handle':'Taster_Twitter_Handle',\n",
    "                        'price':'Price','designation':'Designation','variety':'Variety','region_1':'Region_1',\n",
    "                        'region_2':'Region_2','province':'Province','country':'Country','winery':'Winery'}, \n",
    "                 inplace=True)\n",
    "wine_df"
   ]
  },
  {
   "cell_type": "markdown",
   "metadata": {},
   "source": [
    "information: https://data.world/markpowell/global-wine-points/workspace/file?filename=Wines.xlsx \n",
    "Global Wine Points, DATASET BY MARK POWELL, data provided by data.world, Dataset updated Mar 15, 2021"
   ]
  },
  {
   "cell_type": "code",
   "execution_count": null,
   "metadata": {},
   "outputs": [],
   "source": [
    "wine_global_df = pd.read_excel('https://data.world/markpowell/global-wine-points/workspace/file?filename=Wines.xlsx')\n",
    "wine_global_df.head(10)"
   ]
  },
  {
   "cell_type": "code",
   "execution_count": null,
   "metadata": {},
   "outputs": [],
   "source": [
    "result = pd.merge(wine_df, wine_global_df, on=\"Points\")\n",
    "\n",
    "result"
   ]
  },
  {
   "cell_type": "code",
   "execution_count": null,
   "metadata": {},
   "outputs": [],
   "source": []
  }
 ],
 "metadata": {
  "kernelspec": {
   "display_name": "Python 3",
   "language": "python",
   "name": "python3"
  },
  "language_info": {
   "codemirror_mode": {
    "name": "ipython",
    "version": 3
   },
   "file_extension": ".py",
   "mimetype": "text/x-python",
   "name": "python",
   "nbconvert_exporter": "python",
   "pygments_lexer": "ipython3",
   "version": "3.8.5"
  }
 },
 "nbformat": 4,
 "nbformat_minor": 4
}
